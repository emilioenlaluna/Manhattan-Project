{
  "nbformat": 4,
  "nbformat_minor": 0,
  "metadata": {
    "colab": {
      "provenance": [],
      "authorship_tag": "ABX9TyM4UOtdQgRTIL9/UunlWuE0",
      "include_colab_link": true
    },
    "kernelspec": {
      "name": "python3",
      "display_name": "Python 3"
    },
    "language_info": {
      "name": "python"
    },
    "accelerator": "GPU",
    "gpuClass": "standard"
  },
  "cells": [
    {
      "cell_type": "markdown",
      "metadata": {
        "id": "view-in-github",
        "colab_type": "text"
      },
      "source": [
        "<a href=\"https://colab.research.google.com/github/emilioenlaluna/Manhattan-Project/blob/main/facerecognition.ipynb\" target=\"_parent\"><img src=\"https://colab.research.google.com/assets/colab-badge.svg\" alt=\"Open In Colab\"/></a>"
      ]
    },
    {
      "cell_type": "code",
      "source": [
        "!pip3 install face_recognition"
      ],
      "metadata": {
        "id": "XUy5XQTpIpRL"
      },
      "execution_count": null,
      "outputs": []
    },
    {
      "cell_type": "code",
      "source": [],
      "metadata": {
        "id": "ojowQKNHJo2M"
      },
      "execution_count": null,
      "outputs": []
    },
    {
      "cell_type": "code",
      "source": [
        "import dlib\n",
        "import cv2\n",
        "\n",
        "image1 = cv2.imread(\"President_Barack_Obama.jpg\")\n",
        "image2 = cv2.imread(\"Barack_Obama_2016.jpg\")\n",
        "\n",
        "\n",
        "# Load face detector and face recognition models\n",
        "detector = dlib.get_frontal_face_detector()\n",
        "predictor = dlib.shape_predictor(\"shape_predictor_68_face_landmarks.dat\")\n",
        "facerec = dlib.face_recognition_model_v1(\"dlib_face_recognition_resnet_model_v1.dat\")\n",
        "\n",
        "# Detect faces and extract face embeddings\n",
        "face_locations1 = detector(image1, 1)\n",
        "face_encodings1 = [facerec.compute_face_descriptor(image1, predictor, face_location) for face_location in face_locations1]\n",
        "\n",
        "face_locations2 = detector(image2, 1)\n",
        "face_encodings2 = [facerec.compute_face_descriptor(image2, predictor, face_location) for face_location in face_locations2]\n",
        "\n",
        "# Compare faces\n",
        "if len(face_encodings1) > 0 and len(face_encodings2) > 0:\n",
        "    match_results = dlib.vectors.compare(face_encodings1, face_encodings2)\n",
        "    if any(result > 0.6 for result in match_results):\n",
        "        print(\"The same person is in both photos.\")\n",
        "    else:\n",
        "        print(\"The photos are of different people.\")\n",
        "else:\n",
        "    print(\"No faces were detected in one or both of the photos.\")\n"
      ],
      "metadata": {
        "id": "USepFqTwJpCD"
      },
      "execution_count": null,
      "outputs": []
    },
    {
      "cell_type": "code",
      "source": [],
      "metadata": {
        "id": "BNfCl7ExRPMi"
      },
      "execution_count": null,
      "outputs": []
    },
    {
      "cell_type": "code",
      "source": [
        "image = face_recognition.load_image_file(\"President_Barack_Obama.jpg\")\n",
        "face_locations = face_recognition.face_locations(image)"
      ],
      "metadata": {
        "id": "oFguHqhyM37w"
      },
      "execution_count": null,
      "outputs": []
    },
    {
      "cell_type": "code",
      "source": [
        "face_locations"
      ],
      "metadata": {
        "colab": {
          "base_uri": "https://localhost:8080/"
        },
        "id": "cE0oU_G9M983",
        "outputId": "661f5b81-ef26-4942-db65-c0f1399d70de"
      },
      "execution_count": null,
      "outputs": [
        {
          "output_type": "execute_result",
          "data": {
            "text/plain": [
              "[(118, 513, 341, 291)]"
            ]
          },
          "metadata": {},
          "execution_count": 6
        }
      ]
    },
    {
      "cell_type": "code",
      "source": [
        "face_landmarks_list = face_recognition.face_landmarks(image)\n",
        "face_landmarks_list"
      ],
      "metadata": {
        "id": "xTPjfsfbNFkg"
      },
      "execution_count": null,
      "outputs": []
    },
    {
      "cell_type": "code",
      "source": [
        "import face_recognition\n",
        "known_image = face_recognition.load_image_file(\"President_Barack_Obama.jpg\")\n",
        "unknown_image = face_recognition.load_image_file(\"Barack_Obama_2016.jpg\")\n",
        "\n",
        "biden_encoding = face_recognition.face_encodings(known_image)[0]\n",
        "unknown_encoding = face_recognition.face_encodings(unknown_image)[0]\n",
        "\n",
        "results = face_recognition.compare_faces([biden_encoding], unknown_encoding)"
      ],
      "metadata": {
        "id": "JElSEsj9NU3h"
      },
      "execution_count": null,
      "outputs": []
    },
    {
      "cell_type": "code",
      "source": [
        "results"
      ],
      "metadata": {
        "colab": {
          "base_uri": "https://localhost:8080/"
        },
        "id": "I6Ce9gdNNhtl",
        "outputId": "b726176a-cde9-472e-e12e-344c233dde57"
      },
      "execution_count": null,
      "outputs": [
        {
          "output_type": "execute_result",
          "data": {
            "text/plain": [
              "[True]"
            ]
          },
          "metadata": {},
          "execution_count": 11
        }
      ]
    },
    {
      "cell_type": "code",
      "source": [
        "import face_recognition\n",
        "\n",
        "image = face_recognition.load_image_file(\"President_Barack_Obama.jpg\")\n",
        "face_locations = face_recognition.face_locations(image)\n",
        "face_locations\n",
        "face_landmarks_list = face_recognition.face_landmarks(image)\n",
        "face_landmarks_list\n",
        "# face_locations is now an array listing the co-ordinates of each face!"
      ],
      "metadata": {
        "id": "FJtFHmKROpWJ"
      },
      "execution_count": null,
      "outputs": []
    },
    {
      "cell_type": "code",
      "source": [
        "import face_recognition\n",
        "image = face_recognition.load_image_file(\"President_Barack_Obama.jpg\")\n",
        "face_locations = face_recognition.face_locations(image)\n",
        "face_locations"
      ],
      "metadata": {
        "colab": {
          "base_uri": "https://localhost:8080/"
        },
        "id": "sdldxF1CRSYc",
        "outputId": "9f7790aa-a910-4778-b781-5f3d22974b36"
      },
      "execution_count": null,
      "outputs": [
        {
          "output_type": "execute_result",
          "data": {
            "text/plain": [
              "[(118, 513, 341, 291)]"
            ]
          },
          "metadata": {},
          "execution_count": 15
        }
      ]
    }
  ]
}